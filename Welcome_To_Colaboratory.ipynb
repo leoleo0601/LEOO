{
  "cells": [
    {
      "cell_type": "markdown",
      "metadata": {
        "id": "view-in-github",
        "colab_type": "text"
      },
      "source": [
        "<a href=\"https://colab.research.google.com/github/leoleo0601/LEOO/blob/main/Welcome_To_Colaboratory.ipynb\" target=\"_parent\"><img src=\"https://colab.research.google.com/assets/colab-badge.svg\" alt=\"Open In Colab\"/></a>"
      ]
    },
    {
      "cell_type": "markdown",
      "source": [
        "# New Section"
      ],
      "metadata": {
        "id": "fa7EK6I2mjYW"
      }
    },
    {
      "cell_type": "code",
      "source": [
        "rows=int(input(\"how many rows?\"))\n",
        "columns=int(input(\"how many columns?\"))\n",
        "symbol=input(\"Enter a symbol to use:\")\n",
        "\n",
        "for i in range (rows):\n",
        "  for j in range (columns):\n",
        "    print (symbol, end=\"\\t\")\n",
        "  print ()"
      ],
      "metadata": {
        "colab": {
          "base_uri": "https://localhost:8080/"
        },
        "id": "QmkZYab7FvPK",
        "outputId": "2e54e65a-2fa1-40cb-9384-7dbe89f87123"
      },
      "execution_count": null,
      "outputs": [
        {
          "output_type": "stream",
          "name": "stdout",
          "text": [
            "how many rows?5\n",
            "how many columns?6\n",
            "Enter a symbol to use:$\n",
            "$\t$\t$\t$\t$\t$\t\n",
            "$\t$\t$\t$\t$\t$\t\n",
            "$\t$\t$\t$\t$\t$\t\n",
            "$\t$\t$\t$\t$\t$\t\n",
            "$\t$\t$\t$\t$\t$\t\n"
          ]
        }
      ]
    },
    {
      "cell_type": "code",
      "source": [
        "while True:\n",
        "  name=input('Enter your name:')\n",
        "  if name!=\"\":\n",
        "    break"
      ],
      "metadata": {
        "colab": {
          "base_uri": "https://localhost:8080/"
        },
        "id": "8Xd2W9v1Pgwt",
        "outputId": "aedf0e25-4a52-4294-e69a-1c8f0658c2c1"
      },
      "execution_count": null,
      "outputs": [
        {
          "name": "stdout",
          "output_type": "stream",
          "text": [
            "Enter your name:leo\n"
          ]
        }
      ]
    },
    {
      "cell_type": "code",
      "source": [
        "name=\"\"\n",
        "while len(name)==0:\n",
        "  name=input(\"Enter your name:\")\n",
        "\n",
        "print(\"Hello \"+name)"
      ],
      "metadata": {
        "colab": {
          "base_uri": "https://localhost:8080/"
        },
        "id": "ZjZkHCceQEea",
        "outputId": "8e10d9b2-aced-4700-9ef3-a092a03529ec"
      },
      "execution_count": null,
      "outputs": [
        {
          "output_type": "stream",
          "name": "stdout",
          "text": [
            "Enter your name:l\n",
            "Hello l\n"
          ]
        }
      ]
    },
    {
      "cell_type": "code",
      "source": [
        "for i in range(1,21):\n",
        "  if i==13:\n",
        "    pass\n",
        "  else:\n",
        "    print(i, end=\"\\n\")"
      ],
      "metadata": {
        "colab": {
          "base_uri": "https://localhost:8080/"
        },
        "id": "x2I5WfKRZ9Ch",
        "outputId": "2ee014fd-8b45-4e11-9c54-c6475c02120b"
      },
      "execution_count": null,
      "outputs": [
        {
          "output_type": "stream",
          "name": "stdout",
          "text": [
            "1\n",
            "2\n",
            "3\n",
            "4\n",
            "5\n",
            "6\n",
            "7\n",
            "8\n",
            "9\n",
            "10\n",
            "11\n",
            "12\n",
            "14\n",
            "15\n",
            "16\n",
            "17\n",
            "18\n",
            "19\n",
            "20\n"
          ]
        }
      ]
    },
    {
      "cell_type": "code",
      "source": [
        "temp=int(input(\"what is the temp ouside?:\"))\n",
        "\n",
        "if temp>=0 and temp<=30:\n",
        "  print(\"YA\")\n",
        "# elif temp<0 or temp>30:\n",
        "else:\n",
        "  print(\"GG\")"
      ],
      "metadata": {
        "colab": {
          "base_uri": "https://localhost:8080/"
        },
        "id": "HWll0UAhayZb",
        "outputId": "e8a5f707-cd28-4db7-e106-252cc3e3f1ec"
      },
      "execution_count": null,
      "outputs": [
        {
          "output_type": "stream",
          "name": "stdout",
          "text": [
            "what is the temp ouside?:100\n",
            "GG\n"
          ]
        }
      ]
    },
    {
      "cell_type": "code",
      "source": [
        "import time\n",
        "for seconds in range (10,0,-1):\n",
        "  print (seconds)\n",
        "  time.sleep(1)\n",
        "print(\"happy new year\")\n",
        "\n"
      ],
      "metadata": {
        "colab": {
          "base_uri": "https://localhost:8080/"
        },
        "id": "wneKeaoYcDK4",
        "outputId": "14d4138d-b4c9-4105-f2d5-df011c1afb38"
      },
      "execution_count": null,
      "outputs": [
        {
          "output_type": "stream",
          "name": "stdout",
          "text": [
            "10\n",
            "9\n",
            "8\n",
            "7\n",
            "6\n",
            "5\n",
            "4\n",
            "3\n",
            "2\n",
            "1\n",
            "happy new year\n"
          ]
        }
      ]
    },
    {
      "cell_type": "code",
      "source": [
        "food=['pizza','hamburger','hotdog']\n",
        "food.append('cake')\n",
        "for x in food:\n",
        "  print(x)"
      ],
      "metadata": {
        "colab": {
          "base_uri": "https://localhost:8080/"
        },
        "id": "xWRN66WzkZRl",
        "outputId": "75bb1932-806b-4411-fbe4-4575d76cbfd0"
      },
      "execution_count": null,
      "outputs": [
        {
          "output_type": "stream",
          "name": "stdout",
          "text": [
            "pizza\n",
            "hamburger\n",
            "hotdog\n",
            "cake\n"
          ]
        }
      ]
    },
    {
      "cell_type": "code",
      "source": [
        "utensils={'fork','spoon','knife'}\n",
        "utensils.add('napskin')\n",
        "utensils.remove(\"fork\")\n",
        "for z in utensils:\n",
        "  print(z)"
      ],
      "metadata": {
        "colab": {
          "base_uri": "https://localhost:8080/"
        },
        "id": "YgqPbSBYkzLw",
        "outputId": "23233548-bc96-41af-f084-03a4e0401675"
      },
      "execution_count": null,
      "outputs": [
        {
          "output_type": "stream",
          "name": "stdout",
          "text": [
            "knife\n",
            "spoon\n",
            "napskin\n"
          ]
        }
      ]
    },
    {
      "cell_type": "code",
      "source": [
        "A=['A','B','C']\n",
        "a=['a','b','c']\n",
        "U=(A,a)\n",
        "print(U[0][1])"
      ],
      "metadata": {
        "colab": {
          "base_uri": "https://localhost:8080/"
        },
        "id": "3loNAHelpQz-",
        "outputId": "c742863f-0a44-4f5f-f745-33e4f3e2dd6c"
      },
      "execution_count": null,
      "outputs": [
        {
          "output_type": "stream",
          "name": "stdout",
          "text": [
            "B\n"
          ]
        }
      ]
    },
    {
      "cell_type": "code",
      "source": [
        "Capitals={\"USA\":\"Washington DC\",\n",
        "          \"India\":\"New Dehli\",\n",
        "          \"China\":\"Beijing\",\n",
        "          \"Russia\":\"Moscow\"}\n",
        "Capitals.update({\"Germany\":\"Berlin\"})\n",
        "\n",
        "for key,value in Capitals.items():\n",
        "  print(key,value)\n",
        "\n"
      ],
      "metadata": {
        "colab": {
          "base_uri": "https://localhost:8080/"
        },
        "id": "6Hr6KBvirE3S",
        "outputId": "0a09cd25-383d-4229-fab1-050f40c6b403"
      },
      "execution_count": null,
      "outputs": [
        {
          "output_type": "stream",
          "name": "stdout",
          "text": [
            "USA Washington DC\n",
            "India New Dehli\n",
            "China Beijing\n",
            "Russia Moscow\n",
            "Germany Berlin\n"
          ]
        }
      ]
    },
    {
      "cell_type": "code",
      "source": [
        "name=\"shengChih Lin\"\n",
        "if (name[0].islower()):\n",
        "  name=name.capitalize()\n",
        "first_name=name[:9]\n",
        "last_name=name[10:].capitalize()\n",
        "\n",
        "print(first_name)\n",
        "print(last_name)"
      ],
      "metadata": {
        "colab": {
          "base_uri": "https://localhost:8080/"
        },
        "id": "YqeuuN1quITB",
        "outputId": "0011e03e-3068-4b1c-f313-3bff64dbc1b5"
      },
      "execution_count": null,
      "outputs": [
        {
          "output_type": "stream",
          "name": "stdout",
          "text": [
            "Shengchih\n",
            "Lin\n"
          ]
        }
      ]
    },
    {
      "cell_type": "code",
      "source": [
        "def hello(first_name,last_name):\n",
        "  print(\"hello \"+first_name+\" \"+last_name)\n",
        "  print(\"Have a nice day\")\n",
        "\n",
        "first_name=\"Leo\"\n",
        "last_name=\"Lin\"\n",
        "\n",
        "hello(first_name,last_name)"
      ],
      "metadata": {
        "colab": {
          "base_uri": "https://localhost:8080/"
        },
        "id": "YwS2mSHT6tvW",
        "outputId": "58277a01-14ae-4a77-a069-26f8218d02c6"
      },
      "execution_count": null,
      "outputs": [
        {
          "output_type": "stream",
          "name": "stdout",
          "text": [
            "hello Leo Lin\n",
            "Have a nice day\n"
          ]
        }
      ]
    },
    {
      "cell_type": "code",
      "source": [
        "def multiply(A,B):\n",
        "  return A*B+A/B\n",
        "\n",
        "print(multiply(6,3))"
      ],
      "metadata": {
        "colab": {
          "base_uri": "https://localhost:8080/"
        },
        "id": "F1CCrr2995bU",
        "outputId": "c1eae0f1-f3f9-4e41-f02a-038f8055ec5a"
      },
      "execution_count": null,
      "outputs": [
        {
          "output_type": "stream",
          "name": "stdout",
          "text": [
            "20.0\n"
          ]
        }
      ]
    },
    {
      "cell_type": "code",
      "source": [
        "def multiply(A,B):\n",
        "  return A*B+A/B\n",
        "\n",
        "x=multiply(6,3)\n",
        "print(x)"
      ],
      "metadata": {
        "colab": {
          "base_uri": "https://localhost:8080/"
        },
        "id": "s5OymIZ7-bmU",
        "outputId": "0658ae03-50cb-4e04-b844-3a34807803d7"
      },
      "execution_count": null,
      "outputs": [
        {
          "output_type": "stream",
          "name": "stdout",
          "text": [
            "20.0\n"
          ]
        }
      ]
    },
    {
      "cell_type": "code",
      "source": [
        "def multiply(A,B):\n",
        "  return A*B+A/B\n",
        "  print(multiply(A,B))\n",
        "\n",
        "multiply(6,3)"
      ],
      "metadata": {
        "colab": {
          "base_uri": "https://localhost:8080/"
        },
        "id": "7L4cwgBVGjGg",
        "outputId": "3da9a12d-ea50-4e35-a18c-4306a868744b"
      },
      "execution_count": null,
      "outputs": [
        {
          "output_type": "execute_result",
          "data": {
            "text/plain": [
              "20.0"
            ]
          },
          "metadata": {},
          "execution_count": 13
        }
      ]
    },
    {
      "cell_type": "code",
      "source": [
        "# nest functions calls\n",
        "print(round(abs(float(input(\"Rnter a whole number:\")))))"
      ],
      "metadata": {
        "colab": {
          "base_uri": "https://localhost:8080/"
        },
        "id": "tW0sxqaEE_PZ",
        "outputId": "41a9ad91-5bee-48fe-e0c7-cd5f5c5b9b5e"
      },
      "execution_count": null,
      "outputs": [
        {
          "output_type": "stream",
          "name": "stdout",
          "text": [
            "Rnter a whole number:-1.99999\n",
            "2\n"
          ]
        }
      ]
    },
    {
      "cell_type": "code",
      "source": [
        "def add(*args):\n",
        "  mutiply=1\n",
        "  for i in args:\n",
        "    mutiply*=i\n",
        "  return mutiply\n",
        "\n",
        "x=add(1,2,3,4,5,6)\n",
        "print(x)"
      ],
      "metadata": {
        "colab": {
          "base_uri": "https://localhost:8080/"
        },
        "id": "rlh2V18CLvH5",
        "outputId": "e16a8196-269e-4e75-a2d0-aa14c6a757ad"
      },
      "execution_count": null,
      "outputs": [
        {
          "output_type": "stream",
          "name": "stdout",
          "text": [
            "720\n"
          ]
        }
      ]
    },
    {
      "cell_type": "code",
      "source": [
        "def add(*stuff):\n",
        "  sum=0\n",
        "  stuff=list(stuff)\n",
        "  stuff[0]=0\n",
        "  for i in stuff:\n",
        "    sum+=i\n",
        "  return sum\n",
        "\n",
        "print(add(1,2,3,4,5,6))"
      ],
      "metadata": {
        "colab": {
          "base_uri": "https://localhost:8080/"
        },
        "id": "SUWxoibEyFeD",
        "outputId": "e4165472-33d4-465c-bbc8-7a5b9958ab51"
      },
      "execution_count": null,
      "outputs": [
        {
          "output_type": "stream",
          "name": "stdout",
          "text": [
            "20\n"
          ]
        }
      ]
    },
    {
      "cell_type": "code",
      "source": [
        "# Scope\n",
        "name=\"Lin\"\n",
        "def display_name():\n",
        " # name='leo'\n",
        "  print(name)\n",
        "\n",
        "display_name()\n",
        "print(name)"
      ],
      "metadata": {
        "colab": {
          "base_uri": "https://localhost:8080/"
        },
        "id": "v8geI5Wu7qXC",
        "outputId": "bb2551c7-d1ef-4a9e-a068-f7c27eb74e59"
      },
      "execution_count": null,
      "outputs": [
        {
          "output_type": "stream",
          "name": "stdout",
          "text": [
            "Lin\n",
            "Lin\n"
          ]
        }
      ]
    },
    {
      "cell_type": "code",
      "source": [
        "def hello(**kwargs):\n",
        "  print('Hello',end=\" \")\n",
        "  for key,value in kwargs.items():\n",
        "    print(value,end=\" \")\n",
        "\n",
        "hello(first=\"Leo\",middle=\"SC\",last=\"Lin\")"
      ],
      "metadata": {
        "colab": {
          "base_uri": "https://localhost:8080/"
        },
        "id": "wQEIquwcER6A",
        "outputId": "fdeef30f-7ac6-4745-c411-a3d3e2934aa0"
      },
      "execution_count": null,
      "outputs": [
        {
          "output_type": "stream",
          "name": "stdout",
          "text": [
            "Hello Leo SC Lin "
          ]
        }
      ]
    },
    {
      "cell_type": "code",
      "source": [
        "print('the {0} jumped over the {1}'.format(\"cow\",\"moon\"))"
      ],
      "metadata": {
        "colab": {
          "base_uri": "https://localhost:8080/"
        },
        "id": "TgRgpnht4XP5",
        "outputId": "09832de4-f622-48c4-8620-b4a655f458da"
      },
      "execution_count": null,
      "outputs": [
        {
          "output_type": "stream",
          "name": "stdout",
          "text": [
            "the cow jumped over the moon\n"
          ]
        }
      ]
    },
    {
      "cell_type": "code",
      "source": [
        "name=input('What is your name?')\n",
        "print(\"hello,{:>20}. Good to see you.\".format(name))"
      ],
      "metadata": {
        "colab": {
          "base_uri": "https://localhost:8080/"
        },
        "id": "KjK9KhqzYshT",
        "outputId": "1d07c7f3-e8fe-43c4-a72d-6b956d31d530"
      },
      "execution_count": null,
      "outputs": [
        {
          "output_type": "stream",
          "name": "stdout",
          "text": [
            "What is your name?Leo\n",
            "hello,                 Leo. Good to see you.\n"
          ]
        }
      ]
    },
    {
      "cell_type": "code",
      "source": [
        "\n",
        "number1=3.14159\n",
        "number2=10000000\n",
        "number3=1000\n",
        "print(\"the number is {:.2f}\".format(number1))\n",
        "print(\"the number is {:,}\".format(number2))\n",
        "print(\"the number is {:e}\".format(number3))"
      ],
      "metadata": {
        "colab": {
          "base_uri": "https://localhost:8080/"
        },
        "id": "oRwvGl_0d96x",
        "outputId": "8dd00428-760a-46bf-a52c-c560c30c3853"
      },
      "execution_count": null,
      "outputs": [
        {
          "output_type": "stream",
          "name": "stdout",
          "text": [
            "the number is 3.14\n",
            "the number is 10,000,000\n",
            "the number is 1.000000e+03\n"
          ]
        }
      ]
    },
    {
      "cell_type": "code",
      "source": [
        "import random\n",
        "x=random.randint(1,100)\n",
        "y=random.random()\n",
        "\n",
        "mylist=['paper','scissors','rock']\n",
        "z=random.choice(mylist)\n",
        "\n",
        "cards=[2,3,4,5,6,7,8,9,10,'J','Q','K','A']\n",
        "random.shuffle(cards)\n",
        "print(cards)"
      ],
      "metadata": {
        "colab": {
          "base_uri": "https://localhost:8080/"
        },
        "id": "PvcRgcNP6qsF",
        "outputId": "b17212ef-d991-41b8-94a7-1540263f887f"
      },
      "execution_count": null,
      "outputs": [
        {
          "output_type": "stream",
          "name": "stdout",
          "text": [
            "[7, 2, 'Q', 6, 4, 9, 10, 8, 5, 'A', 'K', 3, 'J']\n"
          ]
        }
      ]
    },
    {
      "cell_type": "code",
      "source": [
        "try:\n",
        "  numerator=int(input(\"Enter a number to divide:\"))\n",
        "  denominator=int(input('Enter a number to devide by:'))\n",
        "  print(numerator/denominator)\n",
        "\n",
        "except ZeroDivisionError as e:\n",
        "  print(e)\n",
        "  print(\"智障？\")\n",
        "except ValueError as f:\n",
        "  print(f)\n",
        "  print('number plz')\n",
        "except Exception as d:\n",
        "  print(d)\n",
        "  print(\"QQ\")"
      ],
      "metadata": {
        "colab": {
          "base_uri": "https://localhost:8080/"
        },
        "id": "6GMsGapuu_dN",
        "outputId": "484fa7f3-51fe-42c4-ace4-cde88123dda8"
      },
      "execution_count": null,
      "outputs": [
        {
          "output_type": "stream",
          "name": "stdout",
          "text": [
            "Enter a number to divide:5\n",
            "Enter a number to devide by:7\n",
            "0.7142857142857143\n"
          ]
        }
      ]
    },
    {
      "cell_type": "code",
      "source": [
        "import random\n",
        "\n",
        "while True:\n",
        "  choices=['rock','paper','scissors']\n",
        "\n",
        "  computer=random.choice(choices)\n",
        "  player=None\n",
        "\n",
        "  while player not in choices:\n",
        "    player=input('rock,paper, or scissors?:').lower()\n",
        "  \n",
        "  if player == computer:\n",
        "    print('computer:',computer)\n",
        "    print('player:',player)\n",
        "    print(\"Tie!!\")\n",
        "\n",
        "  elif player =='rock':\n",
        "    if computer=='paper':\n",
        "      print('computer:',computer)\n",
        "      print('player:',player)\n",
        "      print(\"You lose! QAQ\")\n",
        "    if computer=='scissors':\n",
        "      print('computer:',computer)\n",
        "      print('player:',player)\n",
        "      print(\"You Win! ^^\")\n",
        "\n",
        "  elif player =='paper':\n",
        "    if computer=='scissors':\n",
        "      print('computer:',computer)\n",
        "      print('player:',player)\n",
        "      print(\"You lose! QAQ\")\n",
        "    if computer=='rock':\n",
        "      print('computer:',computer)\n",
        "      print('player:',player)\n",
        "      print(\"You Win! ^^\")\n",
        "\n",
        "  elif player =='scissors':\n",
        "    if computer=='rock':\n",
        "      print('computer:',computer)\n",
        "      print('player:',player)\n",
        "      print(\"You lose! QAQ\")\n",
        "    if computer=='paper':\n",
        "      print('computer:',computer)\n",
        "      print('player:',player)\n",
        "      print(\"You Win! ^^\")\n",
        "  \n",
        "  play_again=input(\"Wanna play again?(Yes/No):\").lower()\n",
        "  if play_again !=\"yes\":\n",
        "    break\n",
        "print(\"Have a nice day!\")"
      ],
      "metadata": {
        "colab": {
          "base_uri": "https://localhost:8080/"
        },
        "id": "KQzjhKep8DVg",
        "outputId": "b49d262c-697b-43b7-aa21-c3de89a22223"
      },
      "execution_count": null,
      "outputs": [
        {
          "output_type": "stream",
          "name": "stdout",
          "text": [
            "rock,paper, or scissors?:rock\n",
            "computer: paper\n",
            "player: rock\n",
            "You lose! QAQ\n",
            "Wanna play again?(Yes/No):n\n",
            "Have a nice day!\n"
          ]
        }
      ]
    },
    {
      "cell_type": "code",
      "source": [
        "choices=['rock','paper','scissors']\n",
        "\n",
        "computer=random.choice(choices)\n",
        "player=None\n",
        "\n",
        "player=input('rock,paper, or scissors?:').lower()\n",
        "  \n",
        "\n",
        "print('computer:',computer)\n",
        "print('player:',player)\n"
      ],
      "metadata": {
        "colab": {
          "base_uri": "https://localhost:8080/"
        },
        "id": "1K0uc24gCMTX",
        "outputId": "d5931813-7c24-43d2-e341-1e4d6f8d3d76"
      },
      "execution_count": null,
      "outputs": [
        {
          "output_type": "stream",
          "name": "stdout",
          "text": [
            "rock,paper, or scissors?:rock\n",
            "computer: paper\n",
            "player: rock\n"
          ]
        }
      ]
    },
    {
      "cell_type": "code",
      "source": [
        "# Choice Game\n",
        "#----------------------------\n",
        "def new_game(): \n",
        "\n",
        "  guesses = []\n",
        "  correct_guesses=0\n",
        "  question_number=1\n",
        "  \n",
        "  for key in questions:\n",
        "    print('\\n'+'----------------------------------------')\n",
        "    print(key)\n",
        "    for i in options[question_number-1]:\n",
        "      print(i)\n",
        "    guess=input('Enter (A, B, C, or D):')\n",
        "    guess=guess.upper() \n",
        "    guesses.append(guess)\n",
        "\n",
        "    correct_guesses  += check_answer(questions.get(key),guess)\n",
        "    question_number += 1\n",
        "  \n",
        "  display_score(correct_guesses,guesses)\n",
        "    \n",
        "    \n",
        "#----------------------------\n",
        "def check_answer(answer,guess):\n",
        "  if answer == guess:\n",
        "    print(\"CORRECT!!\")\n",
        "    return 1\n",
        "  else:\n",
        "    print('WRONG!')\n",
        "    return 0 \n",
        "#----------------------------\n",
        "def display_score(correct_guesses,guesses):\n",
        "  print('----------------------------------------')\n",
        "  print('RESULT:')  \n",
        "  print('Answers: ',end=\"\")\n",
        "  for i in questions:\n",
        "    print(questions.get(i),end='')\n",
        "  print()\n",
        "\n",
        "  print('Guesses: ',end=\"\")\n",
        "  for i in guesses:\n",
        "    print(i,end='')\n",
        "  print()\n",
        "  \n",
        "  score = int((correct_guesses/len(questions))*100)\n",
        "  print('Your score is '+ str(score)+\" %\")\n",
        "#---------------------------- \n",
        "def play_again():\n",
        "  response= input('Do you want to play again? (yes/no):')\n",
        "  response= response.upper()\n",
        "\n",
        "  if response == \"YES\":\n",
        "    return True\n",
        "  elif response ==\"Y\":\n",
        "    return True \n",
        "  else:\n",
        "    return False\n",
        "\n",
        "#----------------------------\n",
        "\n",
        "questions={'Who created Python?:':'A',\n",
        "           'What year was Python created?:':'B',\n",
        "           'Python is tributed to which comedy group?:':'C',\n",
        "           'Is the Earth round?:':'A'}\n",
        "# print(len(questions))-->4\n",
        "\n",
        "options=[['A. Guido van Rossum','B. Elon Musk','C. Bill Gates','D. Mark Zuckerburg'],\n",
        "         ['A. 1989','B. 1991','C. 2000','D. 2016'],\n",
        "         ['A. Lonely Island','B. Smosh','C. Monty Python','D. SNL'],\n",
        "         ['A. True','B. False','C. Sometimes',\"D. What's Earth\"]]\n",
        "\n",
        "new_game() \n",
        "while play_again():\n",
        "  new_game()\n",
        "\n",
        "print('BYE!')"
      ],
      "metadata": {
        "id": "rFEIJJp7CXuB"
      },
      "execution_count": null,
      "outputs": []
    },
    {
      "cell_type": "code",
      "source": [
        "  "
      ],
      "metadata": {
        "id": "IQ2YIac2WF_V"
      },
      "execution_count": null,
      "outputs": []
    }
  ],
  "metadata": {
    "colab": {
      "collapsed_sections": [],
      "name": "Welcome To Colaboratory",
      "provenance": [],
      "include_colab_link": true
    },
    "kernelspec": {
      "display_name": "Python 3",
      "name": "python3"
    }
  },
  "nbformat": 4,
  "nbformat_minor": 0
}